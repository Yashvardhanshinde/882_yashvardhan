{
  "nbformat": 4,
  "nbformat_minor": 0,
  "metadata": {
    "colab": {
      "provenance": []
    },
    "kernelspec": {
      "name": "python3",
      "display_name": "Python 3"
    },
    "language_info": {
      "name": "python"
    }
  },
  "cells": [
    {
      "cell_type": "code",
      "execution_count": null,
      "metadata": {
        "colab": {
          "base_uri": "https://localhost:8080/"
        },
        "id": "hwITSEeVC4dy",
        "outputId": "0729d697-65af-45dd-e7e4-e8f3d9363064"
      },
      "outputs": [
        {
          "output_type": "stream",
          "name": "stdout",
          "text": [
            "[['198' 'Donald' 'OConnell' 'DOCONNEL' '650.507.9833' '21-Jun-07'\n",
            "  'SH_CLERK' '2600' ' - ' '124' '50']\n",
            " ['199' 'Douglas' 'Grant' 'DGRANT' '650.507.9844' '13-Jan-08' 'SH_CLERK'\n",
            "  '2600' ' - ' '124' '50']\n",
            " ['200' 'Jennifer' 'Whalen' 'JWHALEN' '515.123.4444' '17-Sep-03'\n",
            "  'AD_ASST' '4400' ' - ' '101' '10']\n",
            " ['201' 'Michael' 'Hartstein' 'MHARTSTE' '515.123.5555' '17-Feb-04'\n",
            "  'MK_MAN' '13000' ' - ' '100' '20']\n",
            " ['202' 'Pat' 'Fay' 'PFAY' '603.123.6666' '17-Aug-05' 'MK_REP' '6000'\n",
            "  ' - ' '201' '20']\n",
            " ['203' 'Susan' 'Mavris' 'SMAVRIS' '515.123.7777' '07-Jun-02' 'HR_REP'\n",
            "  '6500' ' - ' '101' '40']\n",
            " ['204' 'Hermann' 'Baer' 'HBAER' '515.123.8888' '07-Jun-02' 'PR_REP'\n",
            "  '10000' ' - ' '101' '70']\n",
            " ['205' 'Shelley' 'Higgins' 'SHIGGINS' '515.123.8080' '07-Jun-02'\n",
            "  'AC_MGR' '12008' ' - ' '101' '110']\n",
            " ['206' 'William' 'Gietz' 'WGIETZ' '515.123.8181' '07-Jun-02'\n",
            "  'AC_ACCOUNT' '8300' ' - ' '205' '110']\n",
            " ['100' 'Steven' 'King' 'SKING' '515.123.4567' '17-Jun-03' 'AD_PRES'\n",
            "  '24000' ' - ' ' - ' '90']\n",
            " ['101' 'Neena' 'Kochhar' 'NKOCHHAR' '515.123.4568' '21-Sep-05' 'AD_VP'\n",
            "  '17000' ' - ' '100' '90']\n",
            " ['102' 'Lex' 'De Haan' 'LDEHAAN' '515.123.4569' '13-Jan-01' 'AD_VP'\n",
            "  '17000' ' - ' '100' '90']\n",
            " ['103' 'Alexander' 'Hunold' 'AHUNOLD' '590.423.4567' '03-Jan-06'\n",
            "  'IT_PROG' '9000' ' - ' '102' '60']\n",
            " ['104' 'Bruce' 'Ernst' 'BERNST' '590.423.4568' '21-May-07' 'IT_PROG'\n",
            "  '6000' ' - ' '103' '60']\n",
            " ['105' 'David' 'Austin' 'DAUSTIN' '590.423.4569' '25-Jun-05' 'IT_PROG'\n",
            "  '4800' ' - ' '103' '60']\n",
            " ['106' 'Valli' 'Pataballa' 'VPATABAL' '590.423.4560' '05-Feb-06'\n",
            "  'IT_PROG' '4800' ' - ' '103' '60']\n",
            " ['107' 'Diana' 'Lorentz' 'DLORENTZ' '590.423.5567' '07-Feb-07' 'IT_PROG'\n",
            "  '4200' ' - ' '103' '60']\n",
            " ['108' 'Nancy' 'Greenberg' 'NGREENBE' '515.124.4569' '17-Aug-02'\n",
            "  'FI_MGR' '12008' ' - ' '101' '100']\n",
            " ['109' 'Daniel' 'Faviet' 'DFAVIET' '515.124.4169' '16-Aug-02'\n",
            "  'FI_ACCOUNT' '9000' ' - ' '108' '100']\n",
            " ['110' 'John' 'Chen' 'JCHEN' '515.124.4269' '28-Sep-05' 'FI_ACCOUNT'\n",
            "  '8200' ' - ' '108' '100']\n",
            " ['111' 'Ismael' 'Sciarra' 'ISCIARRA' '515.124.4369' '30-Sep-05'\n",
            "  'FI_ACCOUNT' '7700' ' - ' '108' '100']\n",
            " ['112' 'Jose Manuel' 'Urman' 'JMURMAN' '515.124.4469' '07-Mar-06'\n",
            "  'FI_ACCOUNT' '7800' ' - ' '108' '100']\n",
            " ['113' 'Luis' 'Popp' 'LPOPP' '515.124.4567' '07-Dec-07' 'FI_ACCOUNT'\n",
            "  '6900' ' - ' '108' '100']\n",
            " ['114' 'Den' 'Raphaely' 'DRAPHEAL' '515.127.4561' '07-Dec-02' 'PU_MAN'\n",
            "  '11000' ' - ' '100' '30']\n",
            " ['115' 'Alexander' 'Khoo' 'AKHOO' '515.127.4562' '18-May-03' 'PU_CLERK'\n",
            "  '3100' ' - ' '114' '30']\n",
            " ['116' 'Shelli' 'Baida' 'SBAIDA' '515.127.4563' '24-Dec-05' 'PU_CLERK'\n",
            "  '2900' ' - ' '114' '30']\n",
            " ['117' 'Sigal' 'Tobias' 'STOBIAS' '515.127.4564' '24-Jul-05' 'PU_CLERK'\n",
            "  '2800' ' - ' '114' '30']\n",
            " ['118' 'Guy' 'Himuro' 'GHIMURO' '515.127.4565' '15-Nov-06' 'PU_CLERK'\n",
            "  '2600' ' - ' '114' '30']\n",
            " ['119' 'Karen' 'Colmenares' 'KCOLMENA' '515.127.4566' '10-Aug-07'\n",
            "  'PU_CLERK' '2500' ' - ' '114' '30']\n",
            " ['120' 'Matthew' 'Weiss' 'MWEISS' '650.123.1234' '18-Jul-04' 'ST_MAN'\n",
            "  '8000' ' - ' '100' '50']\n",
            " ['121' 'Adam' 'Fripp' 'AFRIPP' '650.123.2234' '10-Apr-05' 'ST_MAN'\n",
            "  '8200' ' - ' '100' '50']\n",
            " ['122' 'Payam' 'Kaufling' 'PKAUFLIN' '650.123.3234' '01-May-03' 'ST_MAN'\n",
            "  '7900' ' - ' '100' '50']\n",
            " ['123' 'Shanta' 'Vollman' 'SVOLLMAN' '650.123.4234' '10-Oct-05' 'ST_MAN'\n",
            "  '6500' ' - ' '100' '50']\n",
            " ['124' 'Kevin' 'Mourgos' 'KMOURGOS' '650.123.5234' '16-Nov-07' 'ST_MAN'\n",
            "  '5800' ' - ' '100' '50']\n",
            " ['125' 'Julia' 'Nayer' 'JNAYER' '650.124.1214' '16-Jul-05' 'ST_CLERK'\n",
            "  '3200' ' - ' '120' '50']\n",
            " ['126' 'Irene' 'Mikkilineni' 'IMIKKILI' '650.124.1224' '28-Sep-06'\n",
            "  'ST_CLERK' '2700' ' - ' '120' '50']\n",
            " ['127' 'James' 'Landry' 'JLANDRY' '650.124.1334' '14-Jan-07' 'ST_CLERK'\n",
            "  '2400' ' - ' '120' '50']\n",
            " ['128' 'Steven' 'Markle' 'SMARKLE' '650.124.1434' '08-Mar-08' 'ST_CLERK'\n",
            "  '2200' ' - ' '120' '50']\n",
            " ['129' 'Laura' 'Bissot' 'LBISSOT' '650.124.5234' '20-Aug-05' 'ST_CLERK'\n",
            "  '3300' ' - ' '121' '50']\n",
            " ['130' 'Mozhe' 'Atkinson' 'MATKINSO' '650.124.6234' '30-Oct-05'\n",
            "  'ST_CLERK' '2800' ' - ' '121' '50']\n",
            " ['131' 'James' 'Marlow' 'JAMRLOW' '650.124.7234' '16-Feb-05' 'ST_CLERK'\n",
            "  '2500' ' - ' '121' '50']\n",
            " ['132' 'TJ' 'Olson' 'TJOLSON' '650.124.8234' '10-Apr-07' 'ST_CLERK'\n",
            "  '2100' ' - ' '121' '50']\n",
            " ['133' 'Jason' 'Mallin' 'JMALLIN' '650.127.1934' '14-Jun-04' 'ST_CLERK'\n",
            "  '3300' ' - ' '122' '50']\n",
            " ['134' 'Michael' 'Rogers' 'MROGERS' '650.127.1834' '26-Aug-06'\n",
            "  'ST_CLERK' '2900' ' - ' '122' '50']\n",
            " ['135' 'Ki' 'Gee' 'KGEE' '650.127.1734' '12-Dec-07' 'ST_CLERK' '2400'\n",
            "  ' - ' '122' '50']\n",
            " ['136' 'Hazel' 'Philtanker' 'HPHILTAN' '650.127.1634' '06-Feb-08'\n",
            "  'ST_CLERK' '2200' ' - ' '122' '50']\n",
            " ['137' 'Renske' 'Ladwig' 'RLADWIG' '650.121.1234' '14-Jul-03' 'ST_CLERK'\n",
            "  '3600' ' - ' '123' '50']\n",
            " ['138' 'Stephen' 'Stiles' 'SSTILES' '650.121.2034' '26-Oct-05'\n",
            "  'ST_CLERK' '3200' ' - ' '123' '50']\n",
            " ['139' 'John' 'Seo' 'JSEO' '650.121.2019' '12-Feb-06' 'ST_CLERK' '2700'\n",
            "  ' - ' '123' '50']\n",
            " ['140' 'Joshua' 'Patel' 'JPATEL' '650.121.1834' '06-Apr-06' 'ST_CLERK'\n",
            "  '2500' ' - ' '123' '50']]\n"
          ]
        }
      ],
      "source": [
        "import numpy as np\n",
        "fo=np.genfromtxt(\"/content/employees (1).csv\",delimiter=',',dtype=str,skip_header=1)\n",
        "print(fo)\n"
      ]
    },
    {
      "cell_type": "code",
      "source": [
        "print(fo[:,0])"
      ],
      "metadata": {
        "colab": {
          "base_uri": "https://localhost:8080/"
        },
        "id": "nEMWIwJtIJJu",
        "outputId": "dac6957a-cab9-4726-a9d9-34c108ceac5e"
      },
      "execution_count": null,
      "outputs": [
        {
          "output_type": "stream",
          "name": "stdout",
          "text": [
            "['198' '199' '200' '201' '202' '203' '204' '205' '206' '100' '101' '102'\n",
            " '103' '104' '105' '106' '107' '108' '109' '110' '111' '112' '113' '114'\n",
            " '115' '116' '117' '118' '119' '120' '121' '122' '123' '124' '125' '126'\n",
            " '127' '128' '129' '130' '131' '132' '133' '134' '135' '136' '137' '138'\n",
            " '139' '140']\n"
          ]
        }
      ]
    },
    {
      "cell_type": "code",
      "source": [
        "print(fo[:,7])"
      ],
      "metadata": {
        "colab": {
          "base_uri": "https://localhost:8080/"
        },
        "id": "3QP4WfoFJsce",
        "outputId": "a9ba7063-7bcd-4567-82e6-88c6160833e3"
      },
      "execution_count": null,
      "outputs": [
        {
          "output_type": "stream",
          "name": "stdout",
          "text": [
            "['2600' '2600' '4400' '13000' '6000' '6500' '10000' '12008' '8300' '24000'\n",
            " '17000' '17000' '9000' '6000' '4800' '4800' '4200' '12008' '9000' '8200'\n",
            " '7700' '7800' '6900' '11000' '3100' '2900' '2800' '2600' '2500' '8000'\n",
            " '8200' '7900' '6500' '5800' '3200' '2700' '2400' '2200' '3300' '2800'\n",
            " '2500' '2100' '3300' '2900' '2400' '2200' '3600' '3200' '2700' '2500']\n"
          ]
        }
      ]
    },
    {
      "cell_type": "code",
      "source": [
        "c1=fo[:,0].astype('int32')>6000\n",
        "print(type[c1])\n",
        "print(fo[c1])"
      ],
      "metadata": {
        "colab": {
          "base_uri": "https://localhost:8080/"
        },
        "id": "BMwsb7JLJ6w6",
        "outputId": "f5867b51-2135-44b4-98aa-6dd6ee5f7086"
      },
      "execution_count": null,
      "outputs": [
        {
          "output_type": "stream",
          "name": "stdout",
          "text": [
            "type[array([False, False, False, False, False, False, False, False, False,\n",
            "       False, False, False, False, False, False, False, False, False,\n",
            "       False, False, False, False, False, False, False, False, False,\n",
            "       False, False, False, False, False, False, False, False, False,\n",
            "       False, False, False, False, False, False, False, False, False,\n",
            "       False, False, False, False, False])]\n",
            "[]\n"
          ]
        }
      ]
    },
    {
      "cell_type": "code",
      "source": [
        "max(fo[:,7].astype('int32'))"
      ],
      "metadata": {
        "colab": {
          "base_uri": "https://localhost:8080/"
        },
        "id": "BQeZqrQeLtG4",
        "outputId": "e6a182f0-6446-4a4b-e1af-3562bd4a038c"
      },
      "execution_count": null,
      "outputs": [
        {
          "output_type": "execute_result",
          "data": {
            "text/plain": [
              "24000"
            ]
          },
          "metadata": {},
          "execution_count": 12
        }
      ]
    },
    {
      "cell_type": "code",
      "source": [
        "min(fo[:,7].astype('int32'))"
      ],
      "metadata": {
        "colab": {
          "base_uri": "https://localhost:8080/"
        },
        "id": "9ws9UI4JMLKq",
        "outputId": "595bc1ab-6248-497f-8dc3-d6282812d715"
      },
      "execution_count": null,
      "outputs": [
        {
          "output_type": "execute_result",
          "data": {
            "text/plain": [
              "2100"
            ]
          },
          "metadata": {},
          "execution_count": 13
        }
      ]
    },
    {
      "cell_type": "code",
      "source": [
        "print(fo[:,6])"
      ],
      "metadata": {
        "colab": {
          "base_uri": "https://localhost:8080/"
        },
        "id": "MKBmgTq5MiO5",
        "outputId": "eb82fa57-74a4-4760-f1ff-fe816ea382d0"
      },
      "execution_count": null,
      "outputs": [
        {
          "output_type": "stream",
          "name": "stdout",
          "text": [
            "['SH_CLERK' 'SH_CLERK' 'AD_ASST' 'MK_MAN' 'MK_REP' 'HR_REP' 'PR_REP'\n",
            " 'AC_MGR' 'AC_ACCOUNT' 'AD_PRES' 'AD_VP' 'AD_VP' 'IT_PROG' 'IT_PROG'\n",
            " 'IT_PROG' 'IT_PROG' 'IT_PROG' 'FI_MGR' 'FI_ACCOUNT' 'FI_ACCOUNT'\n",
            " 'FI_ACCOUNT' 'FI_ACCOUNT' 'FI_ACCOUNT' 'PU_MAN' 'PU_CLERK' 'PU_CLERK'\n",
            " 'PU_CLERK' 'PU_CLERK' 'PU_CLERK' 'ST_MAN' 'ST_MAN' 'ST_MAN' 'ST_MAN'\n",
            " 'ST_MAN' 'ST_CLERK' 'ST_CLERK' 'ST_CLERK' 'ST_CLERK' 'ST_CLERK'\n",
            " 'ST_CLERK' 'ST_CLERK' 'ST_CLERK' 'ST_CLERK' 'ST_CLERK' 'ST_CLERK'\n",
            " 'ST_CLERK' 'ST_CLERK' 'ST_CLERK' 'ST_CLERK' 'ST_CLERK']\n"
          ]
        }
      ]
    },
    {
      "cell_type": "code",
      "source": [
        "print(fo[:,10])"
      ],
      "metadata": {
        "colab": {
          "base_uri": "https://localhost:8080/"
        },
        "id": "Qy_lkUIZOteF",
        "outputId": "a2bc85dd-3aea-47e5-ae72-4c1c287d9f8c"
      },
      "execution_count": null,
      "outputs": [
        {
          "output_type": "stream",
          "name": "stdout",
          "text": [
            "['50' '50' '10' '20' '20' '40' '70' '110' '110' '90' '90' '90' '60' '60'\n",
            " '60' '60' '60' '100' '100' '100' '100' '100' '100' '30' '30' '30' '30'\n",
            " '30' '30' '50' '50' '50' '50' '50' '50' '50' '50' '50' '50' '50' '50'\n",
            " '50' '50' '50' '50' '50' '50' '50' '50' '50']\n"
          ]
        }
      ]
    },
    {
      "cell_type": "code",
      "source": [
        "c2=fo[::,6]==\"ST_CLERK\""
      ],
      "metadata": {
        "id": "SU3G-iePO77a"
      },
      "execution_count": null,
      "outputs": []
    },
    {
      "cell_type": "code",
      "source": [],
      "metadata": {
        "colab": {
          "base_uri": "https://localhost:8080/"
        },
        "id": "tDF390PJP_wf",
        "outputId": "0b53ed22-d34b-4261-a6ae-651c42628788"
      },
      "execution_count": null,
      "outputs": [
        {
          "output_type": "execute_result",
          "data": {
            "text/plain": [
              "array([['125', 'Julia', 'Nayer', 'JNAYER', '650.124.1214', '16-Jul-05',\n",
              "        'ST_CLERK', '3200', ' - ', '120', '50'],\n",
              "       ['126', 'Irene', 'Mikkilineni', 'IMIKKILI', '650.124.1224',\n",
              "        '28-Sep-06', 'ST_CLERK', '2700', ' - ', '120', '50'],\n",
              "       ['127', 'James', 'Landry', 'JLANDRY', '650.124.1334', '14-Jan-07',\n",
              "        'ST_CLERK', '2400', ' - ', '120', '50'],\n",
              "       ['128', 'Steven', 'Markle', 'SMARKLE', '650.124.1434',\n",
              "        '08-Mar-08', 'ST_CLERK', '2200', ' - ', '120', '50'],\n",
              "       ['129', 'Laura', 'Bissot', 'LBISSOT', '650.124.5234', '20-Aug-05',\n",
              "        'ST_CLERK', '3300', ' - ', '121', '50'],\n",
              "       ['130', 'Mozhe', 'Atkinson', 'MATKINSO', '650.124.6234',\n",
              "        '30-Oct-05', 'ST_CLERK', '2800', ' - ', '121', '50'],\n",
              "       ['131', 'James', 'Marlow', 'JAMRLOW', '650.124.7234', '16-Feb-05',\n",
              "        'ST_CLERK', '2500', ' - ', '121', '50'],\n",
              "       ['132', 'TJ', 'Olson', 'TJOLSON', '650.124.8234', '10-Apr-07',\n",
              "        'ST_CLERK', '2100', ' - ', '121', '50'],\n",
              "       ['133', 'Jason', 'Mallin', 'JMALLIN', '650.127.1934', '14-Jun-04',\n",
              "        'ST_CLERK', '3300', ' - ', '122', '50'],\n",
              "       ['134', 'Michael', 'Rogers', 'MROGERS', '650.127.1834',\n",
              "        '26-Aug-06', 'ST_CLERK', '2900', ' - ', '122', '50'],\n",
              "       ['135', 'Ki', 'Gee', 'KGEE', '650.127.1734', '12-Dec-07',\n",
              "        'ST_CLERK', '2400', ' - ', '122', '50'],\n",
              "       ['136', 'Hazel', 'Philtanker', 'HPHILTAN', '650.127.1634',\n",
              "        '06-Feb-08', 'ST_CLERK', '2200', ' - ', '122', '50'],\n",
              "       ['137', 'Renske', 'Ladwig', 'RLADWIG', '650.121.1234',\n",
              "        '14-Jul-03', 'ST_CLERK', '3600', ' - ', '123', '50'],\n",
              "       ['138', 'Stephen', 'Stiles', 'SSTILES', '650.121.2034',\n",
              "        '26-Oct-05', 'ST_CLERK', '3200', ' - ', '123', '50'],\n",
              "       ['139', 'John', 'Seo', 'JSEO', '650.121.2019', '12-Feb-06',\n",
              "        'ST_CLERK', '2700', ' - ', '123', '50'],\n",
              "       ['140', 'Joshua', 'Patel', 'JPATEL', '650.121.1834', '06-Apr-06',\n",
              "        'ST_CLERK', '2500', ' - ', '123', '50']], dtype='<U12')"
            ]
          },
          "metadata": {},
          "execution_count": 20
        }
      ]
    },
    {
      "cell_type": "code",
      "source": [
        "c3=fo[::,10]==\"DEPARTMENT_ID\"\n",
        "print(c3)"
      ],
      "metadata": {
        "colab": {
          "base_uri": "https://localhost:8080/"
        },
        "id": "nL_XGdKcQzYQ",
        "outputId": "ac812e98-a371-4a6f-97d6-2376a886c6ab"
      },
      "execution_count": null,
      "outputs": [
        {
          "output_type": "stream",
          "name": "stdout",
          "text": [
            "[False False False False False False False False False False False False\n",
            " False False False False False False False False False False False False\n",
            " False False False False False False False False False False False False\n",
            " False False False False False False False False False False False False\n",
            " False False]\n"
          ]
        }
      ]
    },
    {
      "cell_type": "code",
      "source": [
        "np.count_nonzero(fo[:,6]==\"ST_CLERK\")"
      ],
      "metadata": {
        "colab": {
          "base_uri": "https://localhost:8080/"
        },
        "id": "R5X3H8gsSGfG",
        "outputId": "2c404765-22b4-43ba-f21c-c235c727b743"
      },
      "execution_count": null,
      "outputs": [
        {
          "output_type": "execute_result",
          "data": {
            "text/plain": [
              "16"
            ]
          },
          "metadata": {},
          "execution_count": 27
        }
      ]
    },
    {
      "cell_type": "code",
      "source": [
        "np.count_nonzero(fo[:,10]==\"110\")"
      ],
      "metadata": {
        "colab": {
          "base_uri": "https://localhost:8080/"
        },
        "id": "zz6223qOTwN0",
        "outputId": "2fe91662-317f-499e-e4b6-0c5d3208c8af"
      },
      "execution_count": null,
      "outputs": [
        {
          "output_type": "execute_result",
          "data": {
            "text/plain": [
              "2"
            ]
          },
          "metadata": {},
          "execution_count": 31
        }
      ]
    },
    {
      "cell_type": "code",
      "source": [
        "a=np.where(fo[:,0].astype('int32')>200)\n",
        "a"
      ],
      "metadata": {
        "colab": {
          "base_uri": "https://localhost:8080/"
        },
        "id": "wde3ZlEZVraR",
        "outputId": "f13d9146-1b50-4a0d-878b-f6bc3598be43"
      },
      "execution_count": null,
      "outputs": [
        {
          "output_type": "execute_result",
          "data": {
            "text/plain": [
              "(array([3, 4, 5, 6, 7, 8]),)"
            ]
          },
          "metadata": {},
          "execution_count": 35
        }
      ]
    },
    {
      "cell_type": "code",
      "source": [
        "x=np"
      ],
      "metadata": {
        "id": "wp5wqWryUUAZ"
      },
      "execution_count": null,
      "outputs": []
    }
  ]
}