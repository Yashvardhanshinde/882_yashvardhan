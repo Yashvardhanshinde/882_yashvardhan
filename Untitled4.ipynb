{
  "nbformat": 4,
  "nbformat_minor": 0,
  "metadata": {
    "colab": {
      "provenance": []
    },
    "kernelspec": {
      "name": "python3",
      "display_name": "Python 3"
    },
    "language_info": {
      "name": "python"
    }
  },
  "cells": [
    {
      "cell_type": "code",
      "execution_count": null,
      "metadata": {
        "colab": {
          "base_uri": "https://localhost:8080/"
        },
        "id": "0dVB4rPq6aWI",
        "outputId": "65b12bbe-772f-40e9-d9d2-166d3d5ce7d9"
      },
      "outputs": [
        {
          "output_type": "stream",
          "name": "stdout",
          "text": [
            "[12  4 10]\n",
            "[5 6 7]\n",
            "Addition\n",
            "[17 10 17]\n"
          ]
        }
      ],
      "source": [
        "import numpy as np\n",
        "a=np.array([12,4,10])\n",
        "print(a)\n",
        "b=np.array([5,6,7])\n",
        "print(b)\n",
        "c=a+b\n",
        "print(\"Addition\")\n",
        "print(c)"
      ]
    },
    {
      "cell_type": "code",
      "source": [
        "import numpy as np\n",
        "a=np.array([12,4,10])\n",
        "print(a)\n",
        "b=np.array([5,6,7])\n",
        "print(b)\n",
        "d=a-b\n",
        "print(\"subtraction\")\n",
        "print(d)"
      ],
      "metadata": {
        "colab": {
          "base_uri": "https://localhost:8080/"
        },
        "id": "9FcEakIQ6ht2",
        "outputId": "65be9fca-953b-4e79-f113-6c038161890e"
      },
      "execution_count": null,
      "outputs": [
        {
          "output_type": "stream",
          "name": "stdout",
          "text": [
            "[12  4 10]\n",
            "[5 6 7]\n",
            "subtraction\n",
            "[ 7 -2  3]\n"
          ]
        }
      ]
    },
    {
      "cell_type": "code",
      "source": [
        "a=np.array([12,4,10,51,2])\n",
        "print(a)\n",
        "result=np.mean(a)\n",
        "print(\"mean=\",result)\n",
        "r=a.mean()\n",
        "mer=np.median\n",
        "print(\"median=\",mer)"
      ],
      "metadata": {
        "colab": {
          "base_uri": "https://localhost:8080/"
        },
        "id": "BUXHIWGx6vx9",
        "outputId": "46806c8b-a6d8-4519-f310-d0cfa57b3389"
      },
      "execution_count": null,
      "outputs": [
        {
          "output_type": "stream",
          "name": "stdout",
          "text": [
            "[12  4 10 51  2]\n",
            "mean= 15.8\n",
            "median= <function median at 0x7fe20dff0d30>\n"
          ]
        }
      ]
    },
    {
      "cell_type": "code",
      "source": [
        "a=np.array([12,4,10,51,2])\n",
        "print(a)\n",
        "result=np.median(a)\n",
        "print(\"median=\",result)\n",
        "r=a.mean()\n",
        "mer=np.median\n",
        "print(\"median=\",mer)"
      ],
      "metadata": {
        "colab": {
          "base_uri": "https://localhost:8080/"
        },
        "id": "QSQ8nU848NOv",
        "outputId": "d4f4b5ca-625d-4731-e369-d9d4f4fd9d4e"
      },
      "execution_count": null,
      "outputs": [
        {
          "output_type": "stream",
          "name": "stdout",
          "text": [
            "[12  4 10 51  2]\n",
            "median= 10.0\n",
            "median= <function median at 0x7fe20dff0d30>\n"
          ]
        }
      ]
    },
    {
      "cell_type": "code",
      "source": [
        "a=np.array([12,4,10,51,2])\n",
        "print(a)\n",
        "result=np.median(a)\n",
        "print(\"mean=\",result)\n",
        "r=a.mean()\n",
        "mer=np.std (a)\n",
        "print(\"median=\",mer)"
      ],
      "metadata": {
        "colab": {
          "base_uri": "https://localhost:8080/"
        },
        "id": "Phoo9oHX9XVW",
        "outputId": "8713afc1-9f9d-4c52-8730-b6627e9c2849"
      },
      "execution_count": null,
      "outputs": [
        {
          "output_type": "stream",
          "name": "stdout",
          "text": [
            "[12  4 10 51  2]\n",
            "mean= 10.0\n",
            "median= 17.98221343439122\n"
          ]
        }
      ]
    },
    {
      "cell_type": "code",
      "source": [
        "a=np.array([12,4,10,51,2])\n",
        "print(a)\n",
        "result=np.median(a)\n",
        "print(\"mean=\",result)\n",
        "r=a.mean()\n",
        "mer=np.std (a)\n",
        "print(\"median=\",mer)"
      ],
      "metadata": {
        "colab": {
          "base_uri": "https://localhost:8080/"
        },
        "id": "KQeVDZ8R-JiX",
        "outputId": "aa5f8dfa-1087-4463-a584-5ab70786d15b"
      },
      "execution_count": null,
      "outputs": [
        {
          "output_type": "stream",
          "name": "stdout",
          "text": [
            "[12  4 10 51  2]\n",
            "mean= 10.0\n",
            "median= 17.98221343439122\n"
          ]
        }
      ]
    },
    {
      "cell_type": "code",
      "source": [
        "a=np.array([12,4,10,51,2])\n",
        "print(a)\n",
        "z=a.copy()\n",
        "x=a.view()\n",
        "x[0]=21\n",
        "print(a)\n",
        "print(x)\n",
        "print(z)"
      ],
      "metadata": {
        "colab": {
          "base_uri": "https://localhost:8080/"
        },
        "id": "vNuGpKh2_L4A",
        "outputId": "404d7646-5163-4e09-cea5-529d58aa521d"
      },
      "execution_count": null,
      "outputs": [
        {
          "output_type": "stream",
          "name": "stdout",
          "text": [
            "[12  4 10 51  2]\n",
            "[21  4 10 51  2]\n",
            "[21  4 10 51  2]\n",
            "[12  4 10 51  2]\n"
          ]
        }
      ]
    },
    {
      "cell_type": "code",
      "source": [
        "a=np.array([12,4,10,51,2])\n",
        "b=np.array([100,200,300])\n",
        "h=np.hstack((a,b))\n",
        "print(h)"
      ],
      "metadata": {
        "colab": {
          "base_uri": "https://localhost:8080/"
        },
        "id": "cqTLxFEIAMoK",
        "outputId": "e93cd77e-95b4-49c2-c4bf-1d777bfcbff2"
      },
      "execution_count": null,
      "outputs": [
        {
          "output_type": "stream",
          "name": "stdout",
          "text": [
            "[ 12   4  10  51   2 100 200 300]\n"
          ]
        }
      ]
    },
    {
      "cell_type": "code",
      "source": [
        "a=np.array([12,4,10,51,2])\n",
        "b=np.array([100,200,300,400,450])\n",
        "v=np.vstack((a,b))\n",
        "print(v)"
      ],
      "metadata": {
        "colab": {
          "base_uri": "https://localhost:8080/"
        },
        "id": "EVccomO-Bfc1",
        "outputId": "1324b12e-557f-477a-c645-c8d59d19e23f"
      },
      "execution_count": null,
      "outputs": [
        {
          "output_type": "stream",
          "name": "stdout",
          "text": [
            "[[ 12   4  10  51   2]\n",
            " [100 200 300 400 450]]\n"
          ]
        }
      ]
    },
    {
      "cell_type": "code",
      "source": [
        "a=np.array([12,4,10,51,2])\n",
        "b=np.array([100,200,300,400,450])\n",
        "h=np.column_stack((a,b))\n",
        "print(h)"
      ],
      "metadata": {
        "colab": {
          "base_uri": "https://localhost:8080/"
        },
        "id": "LAQDOw3VByvE",
        "outputId": "6da89402-c06f-4bde-a674-32ca510e8d62"
      },
      "execution_count": null,
      "outputs": [
        {
          "output_type": "stream",
          "name": "stdout",
          "text": [
            "[[ 12 100]\n",
            " [  4 200]\n",
            " [ 10 300]\n",
            " [ 51 400]\n",
            " [  2 450]]\n"
          ]
        }
      ]
    },
    {
      "cell_type": "code",
      "source": [
        "a=np.array([12,4,10,51,2])\n",
        "b=np.array([100,200,300,400,450])\n",
        "h=np.sort(a)\n",
        "print(h)"
      ],
      "metadata": {
        "colab": {
          "base_uri": "https://localhost:8080/"
        },
        "id": "oEHeSloCC0yP",
        "outputId": "8dadd8f8-bbc8-4ae1-c887-f4bb490bd963"
      },
      "execution_count": null,
      "outputs": [
        {
          "output_type": "stream",
          "name": "stdout",
          "text": [
            "[ 2  4 10 12 51]\n"
          ]
        }
      ]
    },
    {
      "cell_type": "code",
      "source": [
        "a=np.array([12,4,10,51,2])\n",
        "b=np.array([100,200,300,400,450])\n",
        "h=np.sort(a-1)\n",
        "print(h)"
      ],
      "metadata": {
        "colab": {
          "base_uri": "https://localhost:8080/"
        },
        "id": "Z-iVV6X2EFAX",
        "outputId": "9723d878-0744-4938-8983-b8e5bcadbbf7"
      },
      "execution_count": null,
      "outputs": [
        {
          "output_type": "stream",
          "name": "stdout",
          "text": [
            "[ 1  3  9 11 50]\n"
          ]
        }
      ]
    },
    {
      "cell_type": "code",
      "source": [
        "a=np.array([12,4,10,51,2])\n",
        "b=np.array([100,200,300,400,450])\n",
        "print(a[a>9])"
      ],
      "metadata": {
        "colab": {
          "base_uri": "https://localhost:8080/"
        },
        "id": "bVu50ZW3E2Uj",
        "outputId": "a77a7841-02f2-4b47-a679-4cd8ca89e2f0"
      },
      "execution_count": null,
      "outputs": [
        {
          "output_type": "stream",
          "name": "stdout",
          "text": [
            "[12 10 51]\n"
          ]
        }
      ]
    },
    {
      "cell_type": "code",
      "source": [
        "a=np.array([12,4,10,51,2])\n",
        "b=np.array([100,200,300,400,450])\n",
        "print(a[a>9]*2)\n",
        "print(a.max())\n",
        "print(a.min())\n",
        "index=np.argmax(a)\n",
        "print(index)\n",
        "index=np.argmin(a)\n"
      ],
      "metadata": {
        "colab": {
          "base_uri": "https://localhost:8080/"
        },
        "id": "v2dzo4fXFULz",
        "outputId": "816c4cd8-cd36-4b4e-a92d-df186486f850"
      },
      "execution_count": null,
      "outputs": [
        {
          "output_type": "stream",
          "name": "stdout",
          "text": [
            "[ 24  20 102]\n",
            "51\n",
            "2\n",
            "3\n"
          ]
        }
      ]
    }
  ]
}