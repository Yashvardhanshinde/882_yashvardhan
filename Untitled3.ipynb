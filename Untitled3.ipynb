{
  "nbformat": 4,
  "nbformat_minor": 0,
  "metadata": {
    "colab": {
      "provenance": []
    },
    "kernelspec": {
      "name": "python3",
      "display_name": "Python 3"
    },
    "language_info": {
      "name": "python"
    }
  },
  "cells": [
    {
      "cell_type": "code",
      "execution_count": null,
      "metadata": {
        "colab": {
          "base_uri": "https://localhost:8080/"
        },
        "id": "YZdSkSKjtHrq",
        "outputId": "1a0443eb-2759-4de5-fcc3-1407a002a53e"
      },
      "outputs": [
        {
          "output_type": "stream",
          "name": "stdout",
          "text": [
            "2023-04-27\n",
            "2023 4 27\n",
            "2003-06-06\n"
          ]
        }
      ],
      "source": [
        "from datetime import date\n",
        "from datetime import datetime\n",
        "print(date.today())\n",
        "t=date.today()\n",
        "print(t.year,t.month,t.day)\n",
        "birthdate='6/6/2003'\n",
        "birthdate=datetime.strptime(birthdate,'%d/%m/%Y').date()\n",
        "print(birthdate)\n"
      ]
    },
    {
      "cell_type": "code",
      "source": [
        "from datetime import date\n",
        "from datetime import datetime\n",
        "print(date.today())\n",
        "t=date.today()\n",
        "print(t.year,t.month,t.day)\n",
        "birthdate='3 June,2003'\n",
        "birthdate=datetime.strptime(birthdate,'%d %B,%Y').date()\n",
        "print(birthdate)\n",
        "age=t.year-birthdate.year\n",
        "if (t.month,t.day)<(birthdate.month,birthdate.day):\n",
        "    age-=1\n",
        "    return age\n",
        " f1=open('/content/shinde cm.csv')\n",
        " A1=list(csv.reader(f1,delimate=','))\n",
        " sal=[]\n",
        " age=[]\n",
        " dates=[]\n",
        " for i in range(len(A1)):\n",
        "   dates.appened(datetime.strptime)(A1[i][5],'%m %d %Y').date()\n",
        "pint(dates)\n",
        "for i in range(len(A1)):\n",
        "age.append(calculateage(dates[i]))"
      ],
      "metadata": {
        "colab": {
          "base_uri": "https://localhost:8080/",
          "height": 133
        },
        "id": "UpUzoAyuyb0V",
        "outputId": "d1b16261-8891-45bf-ff7f-bfe1f7e08049"
      },
      "execution_count": null,
      "outputs": [
        {
          "output_type": "error",
          "ename": "IndentationError",
          "evalue": "ignored",
          "traceback": [
            "\u001b[0;36m  File \u001b[0;32m\"<tokenize>\"\u001b[0;36m, line \u001b[0;32m13\u001b[0m\n\u001b[0;31m    f1=open('/content/shinde cm.csv')\u001b[0m\n\u001b[0m    ^\u001b[0m\n\u001b[0;31mIndentationError\u001b[0m\u001b[0;31m:\u001b[0m unindent does not match any outer indentation level\n"
          ]
        }
      ]
    },
    {
      "cell_type": "code",
      "source": [],
      "metadata": {
        "id": "LF_pfYg_3rx_"
      },
      "execution_count": null,
      "outputs": []
    }
  ]
}