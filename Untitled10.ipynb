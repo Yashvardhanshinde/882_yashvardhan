{
  "nbformat": 4,
  "nbformat_minor": 0,
  "metadata": {
    "colab": {
      "provenance": []
    },
    "kernelspec": {
      "name": "python3",
      "display_name": "Python 3"
    },
    "language_info": {
      "name": "python"
    }
  },
  "cells": [
    {
      "cell_type": "code",
      "execution_count": null,
      "metadata": {
        "colab": {
          "base_uri": "https://localhost:8080/"
        },
        "id": "cac12_XGJUv4",
        "outputId": "0f1b88e9-56b6-4e8d-98cf-66352a37d529"
      },
      "outputs": [
        {
          "output_type": "stream",
          "name": "stdout",
          "text": [
            "['Product ID', 'Product details', 'Supplier Details', 'Customer Details', 'Gender']\n",
            "['P00001', 'Lenovo Laptop', 'Raka Ele.', 'Kaustubh Mahajan', 'Male']\n",
            "['P00002', 'Samsung M31', 'Vijay Sales', 'Siddhi Kiwale', 'Female']\n",
            "['P00003', 'Realmi 10pro', 'Gada Ele.', 'Sanket Kandalkar', 'Male']\n",
            "['P00004', 'Oppo F21', 'Surya Ele.', 'Yash Mali', 'Male']\n",
            "['P00005', 'Lenovo Laptop', 'Raka Ele.', 'Yash Bagul', 'Male']\n",
            "['P00006', 'Samsung M31', 'Gada Ele.', 'Siddhi Kiwale', 'Female']\n",
            "['P00007', '\"LG TV 32\"\"\"', 'Vijay Sales', 'Sanket Kandalkar', 'Male']\n",
            "['P00008', 'Oppo F21', 'Surya Ele.', 'Kaustubh Mahajan', 'Male']\n",
            "['P00009', 'Lenovo Laptop', 'Raka Ele.', 'Yash Mali', 'Male']\n",
            "['P00010', 'Samsung M31', 'Gada Ele.', 'Siddhi Kiwale', 'Female']\n",
            "['P00011', '\"LG TV 32\"\"\"', 'Surya Ele.', 'Sanket Kandalkar', 'Male']\n",
            "['P00012', 'Lenovo Laptop', 'Raka Ele.', 'Kaustubh Mahajan', 'Male']\n",
            "['P00013', 'Samsung M31', 'Surya Ele.', 'Yash Mali', 'Male']\n",
            "['P00014', 'Realmi 10pro', 'Raka Ele.', 'Siddhi Kiwale', 'Female']\n",
            "['P00015', 'Lenovo Laptop', 'Gada Ele.', 'Tanuja Mali', 'Female']\n",
            "['P00016', 'Oppo F21', 'Vijay Sales', 'Kaustubh Mahajan', 'Male']\n",
            "['P00017', '\"LG TV 32\"\"\"', 'Deshmukh sales', 'Sanket Kandalkar', 'Male']\n",
            "['P00018', 'Lenovo Laptop', 'Raka Ele.', 'Siddhi Kiwale', 'Female']\n",
            "['P00019', 'Samsung M31', 'Deshmukh sales', 'Kaustubh Mahajan', 'Male']\n",
            "['P00020', '\"LG TV 32\"\"\"', 'Gada Ele.', 'Yash Mali', 'Male']\n"
          ]
        }
      ],
      "source": [
        "fo=open('/content/Sales.csv','r')\n",
        "data=fo.read()\n",
        "lines=data.splitlines()\n"
      ]
    },
    {
      "cell_type": "code",
      "source": [
        "product_detail={}\n",
        "suplier_details={}\n",
        "for line in lines:\n",
        "   rows=line.split(',')\n",
        "   if (rows[1] not in product_detail):\n",
        "    product_detail[rows[1]]=1\n",
        "   else:\n",
        "    product_detail[rows[1]]+=1\n",
        "   if (rows[2] not in suplier_details):\n",
        "     suplier_details[rows[2]]=1\n",
        "   else:\n",
        "     suplier_details[rows[2]]+=1\n",
        "print(product_detail)\n",
        "print(suplier_details)\n",
        "max=0\n",
        "pn=''\n",
        "for k,v in product_detail.items():\n",
        "  if (max<v):\n",
        "    max=v\n",
        "    pn=k\n",
        "print('maximum product purchesed is:',pn)\n",
        "\n",
        "max1=0\n",
        "sn=''\n",
        "for k,v in suplier_details.items():\n",
        "  if (max1<v):\n",
        "    max1=v\n",
        "    sn=k\n",
        "print('best supplier is:',sn)\n",
        "\n"
      ],
      "metadata": {
        "colab": {
          "base_uri": "https://localhost:8080/"
        },
        "id": "SXZFFE5nOnFm",
        "outputId": "6d7984dc-bebe-4c65-d318-673eb7e8b4d0"
      },
      "execution_count": null,
      "outputs": [
        {
          "output_type": "stream",
          "name": "stdout",
          "text": [
            "{'Product details': 1, 'Lenovo Laptop': 6, 'Samsung M31': 5, 'Realmi 10pro': 2, 'Oppo F21': 3, '\"LG TV 32\"\"\"': 4}\n",
            "{'Supplier Details': 1, 'Raka Ele.': 6, 'Vijay Sales': 3, 'Gada Ele.': 5, 'Surya Ele.': 4, 'Deshmukh sales': 2}\n",
            "maximum product purchesed is: Lenovo Laptop\n",
            "best supplier is: Raka Ele.\n"
          ]
        }
      ]
    },
    {
      "cell_type": "code",
      "source": [
        "fo=open(\"/content/emp.csv\",'r')\n",
        "data1=fo.read()\n",
        "print(data1)"
      ],
      "metadata": {
        "colab": {
          "base_uri": "https://localhost:8080/"
        },
        "id": "eJe2Gt45UY-F",
        "outputId": "9ae1cdd0-bb93-481a-8ce2-e2360419e2d8"
      },
      "execution_count": null,
      "outputs": [
        {
          "output_type": "stream",
          "name": "stdout",
          "text": [
            "1,Sanvi,Manager,100000\n",
            "2,Mrunmayee,Sr. Manager,95000\n",
            "3,Jayesh,Manager,80000\n",
            "4,Gouri,Sr. Manager,95000\n",
            "5,Mahesh,Supervisor,500000\n"
          ]
        }
      ]
    },
    {
      "cell_type": "code",
      "source": [],
      "metadata": {
        "id": "_vzT4dOtXrS7"
      },
      "execution_count": null,
      "outputs": []
    },
    {
      "cell_type": "code",
      "source": [
        "lines=data1.splitlines()\n",
        "salary_detalis={}\n",
        "for line in lines:\n",
        "  a=line.split(',')\n",
        "  salary_detalis[a[1]]=int(a[3])\n",
        "print(salary_detalis)\n",
        "max=0\n",
        "em=''\n",
        "for k,v in salary_detalis.items():\n",
        "  if(max<v):\n",
        "    max=v\n",
        "    em=k\n",
        "print('max_salary is ',max,'employ',em)"
      ],
      "metadata": {
        "colab": {
          "base_uri": "https://localhost:8080/",
          "height": 235
        },
        "id": "7921vgVrVcQf",
        "outputId": "e3407cc6-03f7-4a60-c1aa-0b0b3da82c1b"
      },
      "execution_count": null,
      "outputs": [
        {
          "output_type": "error",
          "ename": "NameError",
          "evalue": "ignored",
          "traceback": [
            "\u001b[0;31m---------------------------------------------------------------------------\u001b[0m",
            "\u001b[0;31mNameError\u001b[0m                                 Traceback (most recent call last)",
            "\u001b[0;32m<ipython-input-8-5268a740e62d>\u001b[0m in \u001b[0;36m<cell line: 1>\u001b[0;34m()\u001b[0m\n\u001b[0;32m----> 1\u001b[0;31m \u001b[0mlines\u001b[0m\u001b[0;34m=\u001b[0m\u001b[0mdata1\u001b[0m\u001b[0;34m.\u001b[0m\u001b[0msplitlines\u001b[0m\u001b[0;34m(\u001b[0m\u001b[0;34m)\u001b[0m\u001b[0;34m\u001b[0m\u001b[0;34m\u001b[0m\u001b[0m\n\u001b[0m\u001b[1;32m      2\u001b[0m \u001b[0msalary_detalis\u001b[0m\u001b[0;34m=\u001b[0m\u001b[0;34m{\u001b[0m\u001b[0;34m}\u001b[0m\u001b[0;34m\u001b[0m\u001b[0;34m\u001b[0m\u001b[0m\n\u001b[1;32m      3\u001b[0m \u001b[0;32mfor\u001b[0m \u001b[0mline\u001b[0m \u001b[0;32min\u001b[0m \u001b[0mlines\u001b[0m\u001b[0;34m:\u001b[0m\u001b[0;34m\u001b[0m\u001b[0;34m\u001b[0m\u001b[0m\n\u001b[1;32m      4\u001b[0m   \u001b[0ma\u001b[0m\u001b[0;34m=\u001b[0m\u001b[0mline\u001b[0m\u001b[0;34m.\u001b[0m\u001b[0msplit\u001b[0m\u001b[0;34m(\u001b[0m\u001b[0;34m','\u001b[0m\u001b[0;34m)\u001b[0m\u001b[0;34m\u001b[0m\u001b[0;34m\u001b[0m\u001b[0m\n\u001b[1;32m      5\u001b[0m   \u001b[0msalary_detalis\u001b[0m\u001b[0;34m[\u001b[0m\u001b[0ma\u001b[0m\u001b[0;34m[\u001b[0m\u001b[0;36m1\u001b[0m\u001b[0;34m]\u001b[0m\u001b[0;34m]\u001b[0m\u001b[0;34m=\u001b[0m\u001b[0mint\u001b[0m\u001b[0;34m(\u001b[0m\u001b[0ma\u001b[0m\u001b[0;34m[\u001b[0m\u001b[0;36m3\u001b[0m\u001b[0;34m]\u001b[0m\u001b[0;34m)\u001b[0m\u001b[0;34m\u001b[0m\u001b[0;34m\u001b[0m\u001b[0m\n",
            "\u001b[0;31mNameError\u001b[0m: name 'data1' is not defined"
          ]
        }
      ]
    },
    {
      "cell_type": "code",
      "source": [
        "fo=open(\"/content/Salary.csv\",'r')\n",
        "data=fo.read()\n",
        "print(data)"
      ],
      "metadata": {
        "colab": {
          "base_uri": "https://localhost:8080/"
        },
        "id": "129dMfmuykNw",
        "outputId": "297a8a96-9e37-41b9-bfd8-c85f6601e275"
      },
      "execution_count": null,
      "outputs": [
        {
          "output_type": "stream",
          "name": "stdout",
          "text": [
            "employee_id,salary\n",
            "1001,50000\n",
            "1002,60000\n",
            "1003,70000\n",
            "1004,80000\n",
            "1005,90000\n",
            "\n"
          ]
        }
      ]
    }
  ]
}